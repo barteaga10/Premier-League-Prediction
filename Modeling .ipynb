{
 "cells": [
  {
   "cell_type": "code",
   "execution_count": 112,
   "metadata": {},
   "outputs": [],
   "source": [
    "import pandas as pd\n",
    "import glob\n",
    "import os\n",
    "\n",
    "from sklearn.preprocessing import StandardScaler, OneHotEncoder\n",
    "from sklearn.linear_model import LogisticRegression\n",
    "from sklearn.tree import DecisionTreeClassifier, plot_tree\n",
    "from sklearn.model_selection import train_test_split, GridSearchCV\n",
    "from sklearn.metrics import accuracy_score, recall_score, precision_score, f1_score\n",
    "from sklearn.metrics import plot_confusion_matrix\n",
    "from sklearn.pipeline import Pipeline\n",
    "from sklearn.compose import ColumnTransformer\n",
    "from sklearn.tree import DecisionTreeClassifier\n",
    "from sklearn.naive_bayes import ComplementNB, GaussianNB\n",
    "from sklearn.preprocessing import MinMaxScaler\n",
    "from sklearn.neighbors import KNeighborsClassifier\n",
    "from sklearn.svm import SVC\n",
    "from sklearn.impute import SimpleImputer\n",
    "import xgboost as xgb\n",
    "import warnings\n",
    "warnings.filterwarnings(\"ignore\")"
   ]
  },
  {
   "cell_type": "markdown",
   "metadata": {},
   "source": [
    "Reading my clean data from previous notebook"
   ]
  },
  {
   "cell_type": "code",
   "execution_count": 113,
   "metadata": {},
   "outputs": [
    {
     "data": {
      "text/html": [
       "<div>\n",
       "<style scoped>\n",
       "    .dataframe tbody tr th:only-of-type {\n",
       "        vertical-align: middle;\n",
       "    }\n",
       "\n",
       "    .dataframe tbody tr th {\n",
       "        vertical-align: top;\n",
       "    }\n",
       "\n",
       "    .dataframe thead th {\n",
       "        text-align: right;\n",
       "    }\n",
       "</style>\n",
       "<table border=\"1\" class=\"dataframe\">\n",
       "  <thead>\n",
       "    <tr style=\"text-align: right;\">\n",
       "      <th></th>\n",
       "      <th>HomeOdds</th>\n",
       "      <th>DrawOdds</th>\n",
       "      <th>AwayOdds</th>\n",
       "      <th>Winner</th>\n",
       "      <th>HTP</th>\n",
       "      <th>ATP</th>\n",
       "      <th>HM1</th>\n",
       "      <th>HM2</th>\n",
       "      <th>HM3</th>\n",
       "      <th>AM1</th>\n",
       "      <th>AM2</th>\n",
       "      <th>AM3</th>\n",
       "      <th>HomeTeamLP</th>\n",
       "      <th>AwayTeamLP</th>\n",
       "      <th>HTGD</th>\n",
       "      <th>ATGD</th>\n",
       "      <th>DiffFormPts</th>\n",
       "      <th>DiffLP</th>\n",
       "    </tr>\n",
       "  </thead>\n",
       "  <tbody>\n",
       "    <tr>\n",
       "      <th>0</th>\n",
       "      <td>1.44</td>\n",
       "      <td>4.00</td>\n",
       "      <td>7.50</td>\n",
       "      <td>1</td>\n",
       "      <td>1.000000</td>\n",
       "      <td>0.250000</td>\n",
       "      <td>W</td>\n",
       "      <td>L</td>\n",
       "      <td>D</td>\n",
       "      <td>L</td>\n",
       "      <td>L</td>\n",
       "      <td>D</td>\n",
       "      <td>11.0</td>\n",
       "      <td>18.0</td>\n",
       "      <td>0.000000</td>\n",
       "      <td>-1.000000</td>\n",
       "      <td>0.750000</td>\n",
       "      <td>-7.0</td>\n",
       "    </tr>\n",
       "    <tr>\n",
       "      <th>1</th>\n",
       "      <td>2.25</td>\n",
       "      <td>3.20</td>\n",
       "      <td>3.10</td>\n",
       "      <td>1</td>\n",
       "      <td>0.250000</td>\n",
       "      <td>1.500000</td>\n",
       "      <td>L</td>\n",
       "      <td>L</td>\n",
       "      <td>D</td>\n",
       "      <td>W</td>\n",
       "      <td>W</td>\n",
       "      <td>L</td>\n",
       "      <td>16.0</td>\n",
       "      <td>7.0</td>\n",
       "      <td>-0.500000</td>\n",
       "      <td>0.250000</td>\n",
       "      <td>-1.250000</td>\n",
       "      <td>9.0</td>\n",
       "    </tr>\n",
       "    <tr>\n",
       "      <th>2</th>\n",
       "      <td>2.00</td>\n",
       "      <td>3.20</td>\n",
       "      <td>3.75</td>\n",
       "      <td>1</td>\n",
       "      <td>1.500000</td>\n",
       "      <td>0.750000</td>\n",
       "      <td>W</td>\n",
       "      <td>W</td>\n",
       "      <td>L</td>\n",
       "      <td>D</td>\n",
       "      <td>D</td>\n",
       "      <td>D</td>\n",
       "      <td>17.0</td>\n",
       "      <td>18.0</td>\n",
       "      <td>0.000000</td>\n",
       "      <td>0.000000</td>\n",
       "      <td>0.750000</td>\n",
       "      <td>-1.0</td>\n",
       "    </tr>\n",
       "    <tr>\n",
       "      <th>3</th>\n",
       "      <td>1.28</td>\n",
       "      <td>5.00</td>\n",
       "      <td>10.00</td>\n",
       "      <td>1</td>\n",
       "      <td>2.250000</td>\n",
       "      <td>0.750000</td>\n",
       "      <td>W</td>\n",
       "      <td>W</td>\n",
       "      <td>W</td>\n",
       "      <td>L</td>\n",
       "      <td>W</td>\n",
       "      <td>L</td>\n",
       "      <td>2.0</td>\n",
       "      <td>12.0</td>\n",
       "      <td>1.000000</td>\n",
       "      <td>-0.500000</td>\n",
       "      <td>1.500000</td>\n",
       "      <td>-10.0</td>\n",
       "    </tr>\n",
       "    <tr>\n",
       "      <th>4</th>\n",
       "      <td>9.00</td>\n",
       "      <td>4.33</td>\n",
       "      <td>1.36</td>\n",
       "      <td>-1</td>\n",
       "      <td>0.500000</td>\n",
       "      <td>2.250000</td>\n",
       "      <td>D</td>\n",
       "      <td>L</td>\n",
       "      <td>D</td>\n",
       "      <td>W</td>\n",
       "      <td>W</td>\n",
       "      <td>W</td>\n",
       "      <td>18.0</td>\n",
       "      <td>1.0</td>\n",
       "      <td>-0.250000</td>\n",
       "      <td>2.000000</td>\n",
       "      <td>-1.750000</td>\n",
       "      <td>17.0</td>\n",
       "    </tr>\n",
       "    <tr>\n",
       "      <th>...</th>\n",
       "      <td>...</td>\n",
       "      <td>...</td>\n",
       "      <td>...</td>\n",
       "      <td>...</td>\n",
       "      <td>...</td>\n",
       "      <td>...</td>\n",
       "      <td>...</td>\n",
       "      <td>...</td>\n",
       "      <td>...</td>\n",
       "      <td>...</td>\n",
       "      <td>...</td>\n",
       "      <td>...</td>\n",
       "      <td>...</td>\n",
       "      <td>...</td>\n",
       "      <td>...</td>\n",
       "      <td>...</td>\n",
       "      <td>...</td>\n",
       "      <td>...</td>\n",
       "    </tr>\n",
       "    <tr>\n",
       "      <th>3170</th>\n",
       "      <td>1.18</td>\n",
       "      <td>8.00</td>\n",
       "      <td>19.00</td>\n",
       "      <td>1</td>\n",
       "      <td>2.117647</td>\n",
       "      <td>0.705882</td>\n",
       "      <td>W</td>\n",
       "      <td>W</td>\n",
       "      <td>L</td>\n",
       "      <td>W</td>\n",
       "      <td>L</td>\n",
       "      <td>L</td>\n",
       "      <td>3.0</td>\n",
       "      <td>7.0</td>\n",
       "      <td>0.823529</td>\n",
       "      <td>-1.000000</td>\n",
       "      <td>0.470588</td>\n",
       "      <td>-4.0</td>\n",
       "    </tr>\n",
       "    <tr>\n",
       "      <th>3171</th>\n",
       "      <td>1.64</td>\n",
       "      <td>3.90</td>\n",
       "      <td>6.00</td>\n",
       "      <td>1</td>\n",
       "      <td>1.235294</td>\n",
       "      <td>0.823529</td>\n",
       "      <td>D</td>\n",
       "      <td>L</td>\n",
       "      <td>L</td>\n",
       "      <td>W</td>\n",
       "      <td>L</td>\n",
       "      <td>W</td>\n",
       "      <td>14.0</td>\n",
       "      <td>18.0</td>\n",
       "      <td>-0.176471</td>\n",
       "      <td>-0.882353</td>\n",
       "      <td>-0.411765</td>\n",
       "      <td>-4.0</td>\n",
       "    </tr>\n",
       "    <tr>\n",
       "      <th>3172</th>\n",
       "      <td>7.50</td>\n",
       "      <td>4.50</td>\n",
       "      <td>1.50</td>\n",
       "      <td>-1</td>\n",
       "      <td>1.235294</td>\n",
       "      <td>2.000000</td>\n",
       "      <td>L</td>\n",
       "      <td>W</td>\n",
       "      <td>W</td>\n",
       "      <td>W</td>\n",
       "      <td>L</td>\n",
       "      <td>W</td>\n",
       "      <td>15.0</td>\n",
       "      <td>5.0</td>\n",
       "      <td>-0.176471</td>\n",
       "      <td>1.176471</td>\n",
       "      <td>0.000000</td>\n",
       "      <td>10.0</td>\n",
       "    </tr>\n",
       "    <tr>\n",
       "      <th>3173</th>\n",
       "      <td>1.57</td>\n",
       "      <td>4.50</td>\n",
       "      <td>6.00</td>\n",
       "      <td>1</td>\n",
       "      <td>2.470588</td>\n",
       "      <td>1.529412</td>\n",
       "      <td>W</td>\n",
       "      <td>W</td>\n",
       "      <td>W</td>\n",
       "      <td>W</td>\n",
       "      <td>D</td>\n",
       "      <td>D</td>\n",
       "      <td>4.0</td>\n",
       "      <td>2.0</td>\n",
       "      <td>1.647059</td>\n",
       "      <td>0.117647</td>\n",
       "      <td>0.529412</td>\n",
       "      <td>2.0</td>\n",
       "    </tr>\n",
       "    <tr>\n",
       "      <th>3174</th>\n",
       "      <td>4.10</td>\n",
       "      <td>3.90</td>\n",
       "      <td>1.90</td>\n",
       "      <td>1</td>\n",
       "      <td>0.529412</td>\n",
       "      <td>2.000000</td>\n",
       "      <td>L</td>\n",
       "      <td>L</td>\n",
       "      <td>D</td>\n",
       "      <td>W</td>\n",
       "      <td>D</td>\n",
       "      <td>W</td>\n",
       "      <td>17.0</td>\n",
       "      <td>6.0</td>\n",
       "      <td>-1.000000</td>\n",
       "      <td>0.882353</td>\n",
       "      <td>-0.529412</td>\n",
       "      <td>11.0</td>\n",
       "    </tr>\n",
       "  </tbody>\n",
       "</table>\n",
       "<p>3175 rows × 18 columns</p>\n",
       "</div>"
      ],
      "text/plain": [
       "      HomeOdds  DrawOdds  AwayOdds  Winner       HTP       ATP HM1 HM2 HM3  \\\n",
       "0         1.44      4.00      7.50       1  1.000000  0.250000   W   L   D   \n",
       "1         2.25      3.20      3.10       1  0.250000  1.500000   L   L   D   \n",
       "2         2.00      3.20      3.75       1  1.500000  0.750000   W   W   L   \n",
       "3         1.28      5.00     10.00       1  2.250000  0.750000   W   W   W   \n",
       "4         9.00      4.33      1.36      -1  0.500000  2.250000   D   L   D   \n",
       "...        ...       ...       ...     ...       ...       ...  ..  ..  ..   \n",
       "3170      1.18      8.00     19.00       1  2.117647  0.705882   W   W   L   \n",
       "3171      1.64      3.90      6.00       1  1.235294  0.823529   D   L   L   \n",
       "3172      7.50      4.50      1.50      -1  1.235294  2.000000   L   W   W   \n",
       "3173      1.57      4.50      6.00       1  2.470588  1.529412   W   W   W   \n",
       "3174      4.10      3.90      1.90       1  0.529412  2.000000   L   L   D   \n",
       "\n",
       "     AM1 AM2 AM3  HomeTeamLP  AwayTeamLP      HTGD      ATGD  DiffFormPts  \\\n",
       "0      L   L   D        11.0        18.0  0.000000 -1.000000     0.750000   \n",
       "1      W   W   L        16.0         7.0 -0.500000  0.250000    -1.250000   \n",
       "2      D   D   D        17.0        18.0  0.000000  0.000000     0.750000   \n",
       "3      L   W   L         2.0        12.0  1.000000 -0.500000     1.500000   \n",
       "4      W   W   W        18.0         1.0 -0.250000  2.000000    -1.750000   \n",
       "...   ..  ..  ..         ...         ...       ...       ...          ...   \n",
       "3170   W   L   L         3.0         7.0  0.823529 -1.000000     0.470588   \n",
       "3171   W   L   W        14.0        18.0 -0.176471 -0.882353    -0.411765   \n",
       "3172   W   L   W        15.0         5.0 -0.176471  1.176471     0.000000   \n",
       "3173   W   D   D         4.0         2.0  1.647059  0.117647     0.529412   \n",
       "3174   W   D   W        17.0         6.0 -1.000000  0.882353    -0.529412   \n",
       "\n",
       "      DiffLP  \n",
       "0       -7.0  \n",
       "1        9.0  \n",
       "2       -1.0  \n",
       "3      -10.0  \n",
       "4       17.0  \n",
       "...      ...  \n",
       "3170    -4.0  \n",
       "3171    -4.0  \n",
       "3172    10.0  \n",
       "3173     2.0  \n",
       "3174    11.0  \n",
       "\n",
       "[3175 rows x 18 columns]"
      ]
     },
     "execution_count": 113,
     "metadata": {},
     "output_type": "execute_result"
    }
   ],
   "source": [
    "df = pd.read_csv('data/Clean_data.csv')\n",
    "df"
   ]
  },
  {
   "cell_type": "markdown",
   "metadata": {},
   "source": [
    "# Modeling "
   ]
  },
  {
   "cell_type": "markdown",
   "metadata": {},
   "source": [
    "- Run multiple models\n",
    "- Pick the best one and explore hyper-parameters"
   ]
  },
  {
   "cell_type": "markdown",
   "metadata": {},
   "source": [
    "### Train Test Split "
   ]
  },
  {
   "cell_type": "markdown",
   "metadata": {},
   "source": [
    "- Train and test my data\n",
    "- Hold 100 matches to compare at the end "
   ]
  },
  {
   "cell_type": "code",
   "execution_count": 114,
   "metadata": {},
   "outputs": [],
   "source": [
    "X = df.drop(columns = 'Winner')\n",
    "y = df['Winner']\n",
    "\n",
    "X_t, X_val, y_t, y_val = train_test_split(X, y, test_size=100, shuffle=False,\n",
    "                                                  random_state=42)\n",
    "\n",
    "X_train, X_test, y_train, y_test = train_test_split(X_t, y_t, test_size=0.1, shuffle=False,\n",
    "                                                  random_state=42)"
   ]
  },
  {
   "cell_type": "markdown",
   "metadata": {},
   "source": [
    "### Baseline Model for Home Team"
   ]
  },
  {
   "cell_type": "code",
   "execution_count": 115,
   "metadata": {
    "scrolled": true
   },
   "outputs": [
    {
     "data": {
      "text/plain": [
       " 1    0.458619\n",
       "-1    0.286231\n",
       " 0    0.255150\n",
       "Name: Winner, dtype: float64"
      ]
     },
     "execution_count": 115,
     "metadata": {},
     "output_type": "execute_result"
    }
   ],
   "source": [
    "y_train.value_counts(normalize=True)"
   ]
  },
  {
   "cell_type": "code",
   "execution_count": 116,
   "metadata": {},
   "outputs": [
    {
     "data": {
      "text/plain": [
       " 1    0.451299\n",
       "-1    0.282468\n",
       " 0    0.266234\n",
       "Name: Winner, dtype: float64"
      ]
     },
     "execution_count": 116,
     "metadata": {},
     "output_type": "execute_result"
    }
   ],
   "source": [
    "y_test.value_counts(normalize=True)"
   ]
  },
  {
   "cell_type": "markdown",
   "metadata": {},
   "source": [
    "### Baseline Model for Team with Best Odds"
   ]
  },
  {
   "cell_type": "code",
   "execution_count": 117,
   "metadata": {},
   "outputs": [],
   "source": [
    "# Function 2\n",
    "def find_best_odds(X, y):\n",
    "    '''\n",
    "    Function to map the teams to the lowest odds. And see if the winning \n",
    "    team had the lowest odds. And creates a column to see if it was correct\n",
    "    or not\n",
    "    '''\n",
    "    odds_map = {'HomeOdds' : 1,\n",
    "            'AwayOdds' : -1,\n",
    "            'DrawOdds' : 0}\n",
    "    odds = X[['HomeOdds', 'DrawOdds', 'AwayOdds']]\n",
    "    odds['lowest_odds'] = odds.idxmin(axis=1)\n",
    "    odds['winner'] = y\n",
    "    odds['lowest_odds'] = odds['lowest_odds'].map(odds_map)\n",
    "    odds['odds_correct'] = odds['lowest_odds'] == odds['winner']\n",
    "    return odds "
   ]
  },
  {
   "cell_type": "code",
   "execution_count": 118,
   "metadata": {},
   "outputs": [],
   "source": [
    "train_odds = find_best_odds(X_train, y_train)\n",
    "test_odds = find_best_odds(X_test, y_test)\n",
    "val_odds = find_best_odds(X_val, y_val)"
   ]
  },
  {
   "cell_type": "code",
   "execution_count": 119,
   "metadata": {},
   "outputs": [
    {
     "data": {
      "text/plain": [
       "True     0.546802\n",
       "False    0.453198\n",
       "Name: odds_correct, dtype: float64"
      ]
     },
     "execution_count": 119,
     "metadata": {},
     "output_type": "execute_result"
    }
   ],
   "source": [
    "train_odds['odds_correct'].value_counts(normalize=True)"
   ]
  },
  {
   "cell_type": "code",
   "execution_count": 120,
   "metadata": {},
   "outputs": [
    {
     "data": {
      "text/plain": [
       "True     0.581169\n",
       "False    0.418831\n",
       "Name: odds_correct, dtype: float64"
      ]
     },
     "execution_count": 120,
     "metadata": {},
     "output_type": "execute_result"
    }
   ],
   "source": [
    "test_odds['odds_correct'].value_counts(normalize=True)"
   ]
  },
  {
   "cell_type": "markdown",
   "metadata": {},
   "source": [
    "## Pipeline"
   ]
  },
  {
   "cell_type": "markdown",
   "metadata": {},
   "source": [
    "- creating a seperate cat cols and num cols\n",
    "- scaling and ohe\n",
    "- creating pipeline to make models"
   ]
  },
  {
   "cell_type": "code",
   "execution_count": 121,
   "metadata": {},
   "outputs": [],
   "source": [
    "cat_cols = X.select_dtypes(include=\"object\").columns\n",
    "num_cols = X.select_dtypes(exclude=\"object\").columns"
   ]
  },
  {
   "cell_type": "code",
   "execution_count": 122,
   "metadata": {},
   "outputs": [
    {
     "data": {
      "text/plain": [
       "Index(['HM1', 'HM2', 'HM3', 'AM1', 'AM2', 'AM3'], dtype='object')"
      ]
     },
     "execution_count": 122,
     "metadata": {},
     "output_type": "execute_result"
    }
   ],
   "source": [
    "cat_cols"
   ]
  },
  {
   "cell_type": "code",
   "execution_count": 123,
   "metadata": {},
   "outputs": [
    {
     "data": {
      "text/plain": [
       "Index(['HomeOdds', 'DrawOdds', 'AwayOdds', 'HTP', 'ATP', 'HomeTeamLP',\n",
       "       'AwayTeamLP', 'HTGD', 'ATGD', 'DiffFormPts', 'DiffLP'],\n",
       "      dtype='object')"
      ]
     },
     "execution_count": 123,
     "metadata": {},
     "output_type": "execute_result"
    }
   ],
   "source": [
    "num_cols"
   ]
  },
  {
   "cell_type": "code",
   "execution_count": 124,
   "metadata": {},
   "outputs": [],
   "source": [
    "cat_transformer = Pipeline(steps=[\n",
    "    ('ohe', OneHotEncoder(drop='first'))\n",
    "])\n",
    "\n",
    "num_transformer = Pipeline(steps = [\n",
    "    ('num_imputer', SimpleImputer()),\n",
    "    ('scaler', MinMaxScaler())\n",
    "])"
   ]
  },
  {
   "cell_type": "code",
   "execution_count": 125,
   "metadata": {},
   "outputs": [],
   "source": [
    "preprocessor = ColumnTransformer(transformers=[\n",
    "    ('num', num_transformer, num_cols),\n",
    "    ('cat', cat_transformer, cat_cols)\n",
    "])"
   ]
  },
  {
   "cell_type": "markdown",
   "metadata": {},
   "source": [
    "## Logistic Regression"
   ]
  },
  {
   "cell_type": "code",
   "execution_count": 126,
   "metadata": {},
   "outputs": [],
   "source": [
    "lr_clf = dt_clf = Pipeline(steps =[\n",
    "    ('preprocessor', preprocessor),\n",
    "    ('lr', LogisticRegression())\n",
    "])"
   ]
  },
  {
   "cell_type": "code",
   "execution_count": 127,
   "metadata": {},
   "outputs": [
    {
     "name": "stdout",
     "output_type": "stream",
     "text": [
      "Train Accuracy: 0.563787495482472\n",
      "Test Accuracy: 0.5551948051948052\n"
     ]
    }
   ],
   "source": [
    "lr_clf.fit(X_train, y_train)\n",
    "\n",
    "print(f'Train Accuracy: {lr_clf.score(X_train, y_train)}')\n",
    "print(f'Test Accuracy: {lr_clf.score(X_test, y_test)}')"
   ]
  },
  {
   "cell_type": "code",
   "execution_count": 128,
   "metadata": {},
   "outputs": [
    {
     "name": "stdout",
     "output_type": "stream",
     "text": [
      "Test Accuracy Score: 0.5551948051948052\n",
      "-------------------\n",
      "Test Precision Score: 0.5551948051948052\n",
      "-------------------\n",
      "Test Recall Score: 0.5551948051948052\n",
      "-------------------\n",
      "Test F1_score: 0.5551948051948052\n",
      "-------------------\n"
     ]
    }
   ],
   "source": [
    "lr_pred = lr_clf.predict(X_test)\n",
    "\n",
    "print(f'Test Accuracy Score: {accuracy_score(y_test, lr_pred)}')\n",
    "print('-------------------')\n",
    "print(f\"Test Precision Score: {precision_score(y_test, lr_pred, average='micro')}\")\n",
    "print('-------------------')\n",
    "print(f\"Test Recall Score: {recall_score(y_test, lr_pred, average='micro')}\")\n",
    "print('-------------------')\n",
    "print(f\"Test F1_score: {f1_score(y_test, lr_pred, average='micro')}\")\n",
    "print('-------------------')"
   ]
  },
  {
   "cell_type": "code",
   "execution_count": 129,
   "metadata": {},
   "outputs": [
    {
     "data": {
      "text/plain": [
       "<sklearn.metrics._plot.confusion_matrix.ConfusionMatrixDisplay at 0x7f99d6b8aa30>"
      ]
     },
     "execution_count": 129,
     "metadata": {},
     "output_type": "execute_result"
    },
    {
     "data": {
      "image/png": "[encoded data removed]",
      "text/plain": [
       "<Figure size 432x288 with 2 Axes>"
      ]
     },
     "metadata": {
      "needs_background": "light"
     },
     "output_type": "display_data"
    }
   ],
   "source": [
    "plot_confusion_matrix(lr_clf, X_test, y_test,display_labels=['Away', 'Draw', 'Home'])"
   ]
  },
  {
   "cell_type": "markdown",
   "metadata": {},
   "source": [
    "## Decision Tree"
   ]
  },
  {
   "cell_type": "code",
   "execution_count": 130,
   "metadata": {},
   "outputs": [],
   "source": [
    "dt_clf = Pipeline(steps =[\n",
    "    ('preprocessor', preprocessor),\n",
    "    ('dt', DecisionTreeClassifier())\n",
    "])"
   ]
  },
  {
   "cell_type": "code",
   "execution_count": 131,
   "metadata": {},
   "outputs": [
    {
     "name": "stdout",
     "output_type": "stream",
     "text": [
      "Train Accuracy: 1.0\n",
      "Test Accuracy: 0.44805194805194803\n"
     ]
    }
   ],
   "source": [
    "dt_clf.fit(X_train, y_train)\n",
    "\n",
    "print(f'Train Accuracy: {dt_clf.score(X_train, y_train)}')\n",
    "print(f'Test Accuracy: {dt_clf.score(X_test, y_test)}')"
   ]
  },
  {
   "cell_type": "code",
   "execution_count": 132,
   "metadata": {},
   "outputs": [
    {
     "name": "stdout",
     "output_type": "stream",
     "text": [
      "Test Accuracy Score: 0.44805194805194803\n",
      "-------------------\n",
      "Test Precision Score: 0.44805194805194803\n",
      "-------------------\n",
      "Test Recall Score: 0.44805194805194803\n",
      "-------------------\n",
      "Test F1_score: 0.4480519480519481\n",
      "-------------------\n"
     ]
    }
   ],
   "source": [
    "dt_pred = dt_clf.predict(X_test)\n",
    "\n",
    "print(f'Test Accuracy Score: {accuracy_score(y_test, dt_pred)}')\n",
    "print('-------------------')\n",
    "print(f\"Test Precision Score: {precision_score(y_test, dt_pred, average='micro')}\")\n",
    "print('-------------------')\n",
    "print(f\"Test Recall Score: {recall_score(y_test, dt_pred, average='micro')}\")\n",
    "print('-------------------')\n",
    "print(f\"Test F1_score: {f1_score(y_test, dt_pred, average='micro')}\")\n",
    "print('-------------------')"
   ]
  },
  {
   "cell_type": "code",
   "execution_count": 133,
   "metadata": {},
   "outputs": [
    {
     "data": {
      "text/plain": [
       "<sklearn.metrics._plot.confusion_matrix.ConfusionMatrixDisplay at 0x7f99d5bb4100>"
      ]
     },
     "execution_count": 133,
     "metadata": {},
     "output_type": "execute_result"
    },
    {
     "data": {
      "image/png": "[encoded data removed]",
      "text/plain": [
       "<Figure size 432x288 with 2 Axes>"
      ]
     },
     "metadata": {
      "needs_background": "light"
     },
     "output_type": "display_data"
    }
   ],
   "source": [
    "plot_confusion_matrix(dt_clf, X_test, y_test,display_labels=['Away', 'Draw', 'Home'])"
   ]
  },
  {
   "cell_type": "markdown",
   "metadata": {},
   "source": [
    "## Gaussin"
   ]
  },
  {
   "cell_type": "code",
   "execution_count": 134,
   "metadata": {},
   "outputs": [],
   "source": [
    "nb_clf = Pipeline(steps =[\n",
    "    ('preprocessor', preprocessor),\n",
    "    ('nb', GaussianNB())\n",
    "])"
   ]
  },
  {
   "cell_type": "code",
   "execution_count": 135,
   "metadata": {},
   "outputs": [
    {
     "name": "stdout",
     "output_type": "stream",
     "text": [
      "Train Accuracy: 0.5272858691723888\n",
      "Test Accuracy: 0.5714285714285714\n"
     ]
    }
   ],
   "source": [
    "nb_clf.fit(X_train, y_train)\n",
    "nb_pred = nb_clf.predict(X_test)\n",
    "\n",
    "print(f'Train Accuracy: {nb_clf.score(X_train, y_train)}')\n",
    "print(f'Test Accuracy: {nb_clf.score(X_test, y_test)}')"
   ]
  },
  {
   "cell_type": "code",
   "execution_count": 136,
   "metadata": {},
   "outputs": [
    {
     "data": {
      "text/plain": [
       "0.5714285714285714"
      ]
     },
     "execution_count": 136,
     "metadata": {},
     "output_type": "execute_result"
    }
   ],
   "source": [
    "precision_score(y_test, nb_pred, average='micro')"
   ]
  },
  {
   "cell_type": "code",
   "execution_count": 137,
   "metadata": {},
   "outputs": [
    {
     "name": "stdout",
     "output_type": "stream",
     "text": [
      "Test Accuracy Score: 0.5714285714285714\n",
      "-------------------\n",
      "Test Precision Score: 0.5714285714285714\n",
      "-------------------\n",
      "Test Recall Score: 0.5714285714285714\n",
      "-------------------\n",
      "Test F1_score: 0.5714285714285714\n",
      "-------------------\n"
     ]
    }
   ],
   "source": [
    "\n",
    "\n",
    "print(f'Test Accuracy Score: {accuracy_score(y_test, nb_pred)}')\n",
    "print('-------------------')\n",
    "print(f\"Test Precision Score: {precision_score(y_test, nb_pred, average='micro')}\")\n",
    "print('-------------------')\n",
    "print(f\"Test Recall Score: {recall_score(y_test, nb_pred, average='micro')}\")\n",
    "print('-------------------')\n",
    "print(f\"Test F1_score: {f1_score(y_test, nb_pred, average='micro')}\")\n",
    "print('-------------------')"
   ]
  },
  {
   "cell_type": "code",
   "execution_count": 138,
   "metadata": {},
   "outputs": [
    {
     "data": {
      "text/plain": [
       "<sklearn.metrics._plot.confusion_matrix.ConfusionMatrixDisplay at 0x7f99d5c6a850>"
      ]
     },
     "execution_count": 138,
     "metadata": {},
     "output_type": "execute_result"
    },
    {
     "data": {
      "image/png": "[encoded data removed]",
      "text/plain": [
       "<Figure size 432x288 with 2 Axes>"
      ]
     },
     "metadata": {
      "needs_background": "light"
     },
     "output_type": "display_data"
    }
   ],
   "source": [
    "plot_confusion_matrix(nb_clf, X_test, y_test,display_labels=['Away', 'Draw', 'Home'])"
   ]
  },
  {
   "cell_type": "markdown",
   "metadata": {},
   "source": [
    "## KNN"
   ]
  },
  {
   "cell_type": "code",
   "execution_count": 139,
   "metadata": {},
   "outputs": [],
   "source": [
    "knn_clf = Pipeline(steps =[\n",
    "    ('preprocessor', preprocessor),\n",
    "    ('knn', KNeighborsClassifier())\n",
    "])"
   ]
  },
  {
   "cell_type": "code",
   "execution_count": 140,
   "metadata": {},
   "outputs": [
    {
     "name": "stdout",
     "output_type": "stream",
     "text": [
      "Train Accuracy: 0.6396819660281894\n",
      "Test Accuracy: 0.4253246753246753\n"
     ]
    }
   ],
   "source": [
    "knn_clf.fit(X_train, y_train)\n",
    "\n",
    "print(f'Train Accuracy: {knn_clf.score(X_train, y_train)}')\n",
    "print(f'Test Accuracy: {knn_clf.score(X_test, y_test)}')"
   ]
  },
  {
   "cell_type": "code",
   "execution_count": 141,
   "metadata": {},
   "outputs": [
    {
     "name": "stdout",
     "output_type": "stream",
     "text": [
      "Test Accuracy Score: 0.4253246753246753\n",
      "-------------------\n",
      "Test Precision Score: 0.4253246753246753\n",
      "-------------------\n",
      "Test Recall Score: 0.4253246753246753\n",
      "-------------------\n",
      "Test F1_score: 0.42532467532467527\n",
      "-------------------\n"
     ]
    }
   ],
   "source": [
    "knn_pred = knn_clf.predict(X_test)\n",
    "\n",
    "print(f'Test Accuracy Score: {accuracy_score(y_test, knn_pred)}')\n",
    "print('-------------------')\n",
    "print(f\"Test Precision Score: {precision_score(y_test, knn_pred, average='micro')}\")\n",
    "print('-------------------')\n",
    "print(f\"Test Recall Score: {recall_score(y_test, knn_pred, average='micro')}\")\n",
    "print('-------------------')\n",
    "print(f\"Test F1_score: {f1_score(y_test, knn_pred, average='micro')}\")\n",
    "print('-------------------')"
   ]
  },
  {
   "cell_type": "code",
   "execution_count": 142,
   "metadata": {
    "scrolled": true
   },
   "outputs": [
    {
     "data": {
      "text/plain": [
       "<sklearn.metrics._plot.confusion_matrix.ConfusionMatrixDisplay at 0x7f99d8902c70>"
      ]
     },
     "execution_count": 142,
     "metadata": {},
     "output_type": "execute_result"
    },
    {
     "data": {
      "image/png": "[encoded data removed]",
      "text/plain": [
       "<Figure size 432x288 with 2 Axes>"
      ]
     },
     "metadata": {
      "needs_background": "light"
     },
     "output_type": "display_data"
    }
   ],
   "source": [
    "plot_confusion_matrix(knn_clf, X_test, y_test,display_labels=['Away', 'Draw', 'Home'])"
   ]
  },
  {
   "cell_type": "markdown",
   "metadata": {},
   "source": [
    "## XGB"
   ]
  },
  {
   "cell_type": "code",
   "execution_count": 143,
   "metadata": {},
   "outputs": [],
   "source": [
    "xgb_clf = Pipeline(steps =[\n",
    "    ('preprocessor', preprocessor),\n",
    "    ('xgb', xgb.XGBClassifier())\n",
    "])"
   ]
  },
  {
   "cell_type": "code",
   "execution_count": 144,
   "metadata": {},
   "outputs": [
    {
     "name": "stdout",
     "output_type": "stream",
     "text": [
      "Train Accuracy: 1.0\n",
      "Test Accuracy: 0.538961038961039\n"
     ]
    }
   ],
   "source": [
    "xgb_clf.fit(X_train, y_train)\n",
    "\n",
    "print(f'Train Accuracy: {xgb_clf.score(X_train, y_train)}')\n",
    "print(f'Test Accuracy: {xgb_clf.score(X_test, y_test)}')"
   ]
  },
  {
   "cell_type": "code",
   "execution_count": 145,
   "metadata": {},
   "outputs": [
    {
     "name": "stdout",
     "output_type": "stream",
     "text": [
      "Test Accuracy Score: 0.538961038961039\n",
      "-------------------\n",
      "Test Precision Score: 0.538961038961039\n",
      "-------------------\n",
      "Test Recall Score: 0.538961038961039\n",
      "-------------------\n",
      "Test F1_score: 0.538961038961039\n",
      "-------------------\n"
     ]
    }
   ],
   "source": [
    "xgb_pred = xgb_clf.predict(X_test)\n",
    "\n",
    "print(f'Test Accuracy Score: {accuracy_score(y_test, xgb_pred)}')\n",
    "print('-------------------')\n",
    "print(f\"Test Precision Score: {precision_score(y_test, xgb_pred, average='micro')}\")\n",
    "print('-------------------')\n",
    "print(f\"Test Recall Score: {recall_score(y_test, xgb_pred, average='micro')}\")\n",
    "print('-------------------')\n",
    "print(f\"Test F1_score: {f1_score(y_test, xgb_pred, average='micro')}\")\n",
    "print('-------------------')"
   ]
  },
  {
   "cell_type": "code",
   "execution_count": 146,
   "metadata": {},
   "outputs": [
    {
     "data": {
      "text/plain": [
       "<sklearn.metrics._plot.confusion_matrix.ConfusionMatrixDisplay at 0x7f99d8902c10>"
      ]
     },
     "execution_count": 146,
     "metadata": {},
     "output_type": "execute_result"
    },
    {
     "data": {
      "image/png": "[encoded data removed]",
      "text/plain": [
       "<Figure size 432x288 with 2 Axes>"
      ]
     },
     "metadata": {
      "needs_background": "light"
     },
     "output_type": "display_data"
    }
   ],
   "source": [
    "plot_confusion_matrix(xgb_clf, X_test, y_test,display_labels=['Away', 'Draw', 'Home'])"
   ]
  },
  {
   "cell_type": "markdown",
   "metadata": {},
   "source": [
    "## SVC"
   ]
  },
  {
   "cell_type": "code",
   "execution_count": 147,
   "metadata": {},
   "outputs": [],
   "source": [
    "svc_clf = Pipeline(steps =[\n",
    "    ('preprocessor', preprocessor),\n",
    "    ('svc', SVC())\n",
    "])"
   ]
  },
  {
   "cell_type": "code",
   "execution_count": 148,
   "metadata": {},
   "outputs": [
    {
     "name": "stdout",
     "output_type": "stream",
     "text": [
      "Train Accuracy: 0.5963136971449223\n",
      "Test Accuracy: 0.5324675324675324\n"
     ]
    }
   ],
   "source": [
    "svc_clf.fit(X_train, y_train)\n",
    "\n",
    "print(f'Train Accuracy: {svc_clf.score(X_train, y_train)}')\n",
    "print(f'Test Accuracy: {svc_clf.score(X_test, y_test)}')"
   ]
  },
  {
   "cell_type": "code",
   "execution_count": 149,
   "metadata": {},
   "outputs": [
    {
     "name": "stdout",
     "output_type": "stream",
     "text": [
      "Test Accuracy Score: 0.5324675324675324\n",
      "-------------------\n",
      "Test Precision Score: 0.5324675324675324\n",
      "-------------------\n",
      "Test Recall Score: 0.5324675324675324\n",
      "-------------------\n",
      "Test F1_score: 0.5324675324675324\n",
      "-------------------\n"
     ]
    }
   ],
   "source": [
    "svc_pred = svc_clf.predict(X_test)\n",
    "\n",
    "print(f'Test Accuracy Score: {accuracy_score(y_test, svc_pred)}')\n",
    "print('-------------------')\n",
    "print(f\"Test Precision Score: {precision_score(y_test, svc_pred, average='micro')}\")\n",
    "print('-------------------')\n",
    "print(f\"Test Recall Score: {recall_score(y_test, svc_pred, average='micro')}\")\n",
    "print('-------------------')\n",
    "print(f\"Test F1_score: {f1_score(y_test, svc_pred, average='micro')}\")\n",
    "print('-------------------')"
   ]
  },
  {
   "cell_type": "code",
   "execution_count": 150,
   "metadata": {},
   "outputs": [
    {
     "data": {
      "text/plain": [
       "<sklearn.metrics._plot.confusion_matrix.ConfusionMatrixDisplay at 0x7f99d8c12fd0>"
      ]
     },
     "execution_count": 150,
     "metadata": {},
     "output_type": "execute_result"
    },
    {
     "data": {
      "image/png": "[encoded data removed]",
      "text/plain": [
       "<Figure size 432x288 with 2 Axes>"
      ]
     },
     "metadata": {
      "needs_background": "light"
     },
     "output_type": "display_data"
    }
   ],
   "source": [
    "plot_confusion_matrix(svc_clf, X_test, y_test,display_labels=['Away', 'Draw', 'Home'])"
   ]
  },
  {
   "cell_type": "markdown",
   "metadata": {},
   "source": [
    "Best results "
   ]
  },
  {
   "cell_type": "markdown",
   "metadata": {},
   "source": [
    "### GridSearchCV \n",
    "- Tuning our hyper-parameters\n",
    "- Finding a good model"
   ]
  },
  {
   "cell_type": "code",
   "execution_count": 151,
   "metadata": {},
   "outputs": [],
   "source": [
    "params_svc = {\n",
    "    'svc__C': [0.01, 0.1, 1, 10],\n",
    "    'svc__kernel':['linear', 'poly', 'sigmoid', 'rbf']\n",
    "}"
   ]
  },
  {
   "cell_type": "code",
   "execution_count": 152,
   "metadata": {},
   "outputs": [
    {
     "data": {
      "text/plain": [
       "GridSearchCV(cv=5,\n",
       "             estimator=Pipeline(steps=[('preprocessor',\n",
       "                                        ColumnTransformer(transformers=[('num',\n",
       "                                                                         Pipeline(steps=[('num_imputer',\n",
       "                                                                                          SimpleImputer()),\n",
       "                                                                                         ('scaler',\n",
       "                                                                                          MinMaxScaler())]),\n",
       "                                                                         Index(['HomeOdds', 'DrawOdds', 'AwayOdds', 'HTP', 'ATP', 'HomeTeamLP',\n",
       "       'AwayTeamLP', 'HTGD', 'ATGD', 'DiffFormPts', 'DiffLP'],\n",
       "      dtype='object')),\n",
       "                                                                        ('cat',\n",
       "                                                                         Pipeline(steps=[('ohe',\n",
       "                                                                                          OneHotEncoder(drop='first'))]),\n",
       "                                                                         Index(['HM1', 'HM2', 'HM3', 'AM1', 'AM2', 'AM3'], dtype='object'))])),\n",
       "                                       ('svc', SVC())]),\n",
       "             param_grid={'svc__C': [0.01, 0.1, 1, 10],\n",
       "                         'svc__kernel': ['linear', 'poly', 'sigmoid', 'rbf']},\n",
       "             scoring='accuracy')"
      ]
     },
     "execution_count": 152,
     "metadata": {},
     "output_type": "execute_result"
    }
   ],
   "source": [
    "gs_svc = GridSearchCV(svc_clf, params_svc, cv=5, scoring='accuracy')\n",
    "\n",
    "gs_svc.fit(X_train, y_train)"
   ]
  },
  {
   "cell_type": "code",
   "execution_count": 153,
   "metadata": {},
   "outputs": [
    {
     "data": {
      "text/plain": [
       "{'svc__C': 1, 'svc__kernel': 'linear'}"
      ]
     },
     "execution_count": 153,
     "metadata": {},
     "output_type": "execute_result"
    }
   ],
   "source": [
    "gs_svc.best_params_"
   ]
  },
  {
   "cell_type": "code",
   "execution_count": 154,
   "metadata": {},
   "outputs": [
    {
     "name": "stdout",
     "output_type": "stream",
     "text": [
      "Train Accuracy: 0.5561980484279002\n",
      "Test Accuracy: 0.5714285714285714\n"
     ]
    }
   ],
   "source": [
    "print(f'Train Accuracy: {gs_svc.best_estimator_.score(X_train, y_train)}')\n",
    "print(f'Test Accuracy: {gs_svc.best_estimator_.score(X_test, y_test)}')"
   ]
  },
  {
   "cell_type": "code",
   "execution_count": 155,
   "metadata": {},
   "outputs": [
    {
     "name": "stdout",
     "output_type": "stream",
     "text": [
      "Test Accuracy Score: 0.5714285714285714\n",
      "-------------------\n",
      "Test Precision Score: 0.5714285714285714\n",
      "-------------------\n",
      "Test Recall Score: 0.5714285714285714\n",
      "-------------------\n",
      "Test F1_score: 0.5714285714285714\n",
      "-------------------\n"
     ]
    }
   ],
   "source": [
    "svc_gs_pred = gs_svc.best_estimator_.predict(X_test)\n",
    "\n",
    "print(f'Test Accuracy Score: {accuracy_score(y_test, svc_gs_pred)}')\n",
    "print('-------------------')\n",
    "print(f\"Test Precision Score: {precision_score(y_test, svc_gs_pred, average='micro')}\")\n",
    "print('-------------------')\n",
    "print(f\"Test Recall Score: {recall_score(y_test, svc_gs_pred, average='micro')}\")\n",
    "print('-------------------')\n",
    "print(f\"Test F1_score: {f1_score(y_test, svc_gs_pred, average='micro')}\")\n",
    "print('-------------------')"
   ]
  },
  {
   "cell_type": "code",
   "execution_count": 156,
   "metadata": {},
   "outputs": [
    {
     "data": {
      "text/plain": [
       "<sklearn.metrics._plot.confusion_matrix.ConfusionMatrixDisplay at 0x7f99d5d1fb80>"
      ]
     },
     "execution_count": 156,
     "metadata": {},
     "output_type": "execute_result"
    },
    {
     "data": {
      "image/png": "[encoded data removed]",
      "text/plain": [
       "<Figure size 432x288 with 2 Axes>"
      ]
     },
     "metadata": {
      "needs_background": "light"
     },
     "output_type": "display_data"
    }
   ],
   "source": [
    "plot_confusion_matrix(gs_svc.best_estimator_, X_test, y_test,display_labels=['Away', 'Draw', 'Home'])"
   ]
  },
  {
   "cell_type": "markdown",
   "metadata": {},
   "source": [
    "### 100 games "
   ]
  },
  {
   "cell_type": "markdown",
   "metadata": {},
   "source": [
    "Ran my model on the 100 games that weren't scaled on "
   ]
  },
  {
   "cell_type": "code",
   "execution_count": 157,
   "metadata": {
    "scrolled": true
   },
   "outputs": [
    {
     "data": {
      "text/plain": [
       " 1    47\n",
       "-1    35\n",
       " 0    18\n",
       "Name: Winner, dtype: int64"
      ]
     },
     "execution_count": 157,
     "metadata": {},
     "output_type": "execute_result"
    }
   ],
   "source": [
    "y_val.value_counts()"
   ]
  },
  {
   "cell_type": "code",
   "execution_count": 158,
   "metadata": {},
   "outputs": [
    {
     "data": {
      "text/plain": [
       "100"
      ]
     },
     "execution_count": 158,
     "metadata": {},
     "output_type": "execute_result"
    }
   ],
   "source": [
    "len(y_val)"
   ]
  },
  {
   "cell_type": "code",
   "execution_count": 159,
   "metadata": {},
   "outputs": [
    {
     "data": {
      "text/plain": [
       "<sklearn.metrics._plot.confusion_matrix.ConfusionMatrixDisplay at 0x7f99d8e2c160>"
      ]
     },
     "execution_count": 159,
     "metadata": {},
     "output_type": "execute_result"
    },
    {
     "data": {
      "image/png": "[encoded data removed]",
      "text/plain": [
       "<Figure size 432x288 with 2 Axes>"
      ]
     },
     "metadata": {
      "needs_background": "light"
     },
     "output_type": "display_data"
    }
   ],
   "source": [
    "plot_confusion_matrix(gs_svc.best_estimator_, X_val, y_val, display_labels=['Away', 'Draw', 'Home'])"
   ]
  },
  {
   "cell_type": "code",
   "execution_count": 160,
   "metadata": {},
   "outputs": [
    {
     "name": "stdout",
     "output_type": "stream",
     "text": [
      "Hold Out Accuracy Score: 0.65\n",
      "-------------------\n",
      "Hold Out Precision Score: 0.65\n",
      "-------------------\n",
      "Hold Out Recall Score: 0.65\n",
      "-------------------\n",
      "Hold Out F1_score: 0.65\n",
      "-------------------\n"
     ]
    }
   ],
   "source": [
    "svc_pred_val = gs_svc.best_estimator_.predict(X_val)\n",
    "\n",
    "print(f'Hold Out Accuracy Score: {accuracy_score(y_val, svc_pred_val)}')\n",
    "print('-------------------')\n",
    "print(f\"Hold Out Precision Score: {precision_score(y_val, svc_pred_val, average='micro')}\")\n",
    "print('-------------------')\n",
    "print(f\"Hold Out Recall Score: {recall_score(y_val, svc_pred_val, average='micro')}\")\n",
    "print('-------------------')\n",
    "print(f\"Hold Out F1_score: {f1_score(y_val, svc_pred_val, average='micro')}\")\n",
    "print('-------------------')"
   ]
  },
  {
   "cell_type": "code",
   "execution_count": 161,
   "metadata": {},
   "outputs": [
    {
     "data": {
      "text/plain": [
       "True     0.61\n",
       "False    0.39\n",
       "Name: odds_correct, dtype: float64"
      ]
     },
     "execution_count": 161,
     "metadata": {},
     "output_type": "execute_result"
    }
   ],
   "source": [
    "val_odds['odds_correct'].value_counts(normalize=True)"
   ]
  },
  {
   "cell_type": "code",
   "execution_count": 162,
   "metadata": {},
   "outputs": [
    {
     "data": {
      "text/plain": [
       " 1    0.47\n",
       "-1    0.35\n",
       " 0    0.18\n",
       "Name: Winner, dtype: float64"
      ]
     },
     "execution_count": 162,
     "metadata": {},
     "output_type": "execute_result"
    }
   ],
   "source": [
    "y_val.value_counts(normalize=True)"
   ]
  },
  {
   "cell_type": "markdown",
   "metadata": {},
   "source": [
    "- over predicting home team win   \n",
    "- currently not predicting a draw\n",
    "- Better prediction than baseline models"
   ]
  }
 ],
 "metadata": {
  "kernelspec": {
   "display_name": "Python (learn-env)",
   "language": "python",
   "name": "learn-env"
  },
  "language_info": {
   "codemirror_mode": {
    "name": "ipython",
    "version": 3
   },
   "file_extension": ".py",
   "mimetype": "text/x-python",
   "name": "python",
   "nbconvert_exporter": "python",
   "pygments_lexer": "ipython3",
   "version": "3.8.5"
  }
 },
 "nbformat": 4,
 "nbformat_minor": 4
}
